{
  "nbformat": 4,
  "nbformat_minor": 0,
  "metadata": {
    "colab": {
      "provenance": [],
      "include_colab_link": true
    },
    "kernelspec": {
      "name": "python3",
      "display_name": "Python 3"
    },
    "language_info": {
      "name": "python"
    }
  },
  "cells": [
    {
      "cell_type": "markdown",
      "metadata": {
        "id": "view-in-github",
        "colab_type": "text"
      },
      "source": [
        "<a href=\"https://colab.research.google.com/github/martha-rincon-lopez/Diplomado/blob/Tareas/Cuestionario_regresi%C3%B3n.ipynb\" target=\"_parent\"><img src=\"https://colab.research.google.com/assets/colab-badge.svg\" alt=\"Open In Colab\"/></a>"
      ]
    },
    {
      "cell_type": "markdown",
      "source": [
        "# **REGRESIÓN LINEAL**"
      ],
      "metadata": {
        "id": "uuaLhdnZ0UCO"
      }
    },
    {
      "cell_type": "markdown",
      "source": [
        "**1. ¿Cuál es el objetivo principal de la regresión lineal simple?**\n",
        "\n",
        "> c) Encontrar la correlación entre variables"
      ],
      "metadata": {
        "id": "-H0qniRV0fW3"
      }
    },
    {
      "cell_type": "markdown",
      "source": [
        "**2. ¿Cuál es la variable que se intenta predecir en la regresión lineal simple?**\n",
        "\n",
        "> b) Variable dependiente\n",
        "\n"
      ],
      "metadata": {
        "id": "Gks7_kfL0of6"
      }
    },
    {
      "cell_type": "markdown",
      "source": [
        "**3. ¿Cuál es el nombre del método utilizado para estimar los parámetros en la regresión lineal simple?**\n",
        "\n",
        "\n",
        "\n",
        "> a) Método de mínimos cuadrados\n",
        "\n"
      ],
      "metadata": {
        "id": "u0A3ZsYz0v9_"
      }
    },
    {
      "cell_type": "markdown",
      "source": [
        "**4. ¿Cuál es el rango de valores que puede tomar el coeficiente de correlación en la regresión lineal simple?**\n",
        "\n",
        "> a) Entre -1 y 1\n"
      ],
      "metadata": {
        "id": "nJ26B48c04zn"
      }
    },
    {
      "cell_type": "markdown",
      "source": [
        "**5. ¿Cuál es la hipótesis nula en la regresión lineal simple?**\n",
        "\n",
        "> a) No hay relación entre las variables\n",
        "\n"
      ],
      "metadata": {
        "id": "xEPYI0ms1Bap"
      }
    },
    {
      "cell_type": "markdown",
      "source": [
        "**6. ¿Cuál es la interpretación del coeficiente de determinación (R2) en la regresión lineal simple?**\n",
        "\n",
        "> d) Nivel de significancia entre los coeficientes\n",
        "\n"
      ],
      "metadata": {
        "id": "agkm6lhn1H51"
      }
    },
    {
      "cell_type": "markdown",
      "source": [
        "**7. ¿Cuál es el supuesto clave en la regresión lineal simple?**\n",
        "\n",
        "> d) Linealidad entre variables\n"
      ],
      "metadata": {
        "id": "11oBazIg1Rvg"
      }
    },
    {
      "cell_type": "markdown",
      "source": [
        "**8. ¿Cuál es la fórmula para la ecuación de la recta en la regresión lineal simple?**\n",
        "\n",
        "> a) y = mx + b\n",
        "\n"
      ],
      "metadata": {
        "id": "n6StRm7Z1j-b"
      }
    },
    {
      "cell_type": "markdown",
      "source": [
        "**9. ¿ Cuál es el criterio seleccionado para el mejor modelo en la regresión lineal simple?**\n",
        "\n",
        "> b) Coeficiente de determinación ajustado (R^2 ajustado)\n"
      ],
      "metadata": {
        "id": "2p9TiU8V12K3"
      }
    },
    {
      "cell_type": "markdown",
      "source": [
        "**10. ¿ Cuál es la finalidad de la validación del modelo en la regresión lineal simple?**\n",
        "d)"
      ],
      "metadata": {
        "id": "VKWxFxtK19ug"
      }
    },
    {
      "cell_type": "markdown",
      "source": [
        "# **REGRESIÓN MÚLTIPLE**"
      ],
      "metadata": {
        "id": "ccNEfnJW2EEO"
      }
    },
    {
      "cell_type": "markdown",
      "source": [
        "**1. ¿Cuál es la principal diferencia entre la regresión lineal y la regresión lineal múltiple?**\n",
        "\n",
        "> a) La regresión lineal múltiple utiliza más de una variable independiente"
      ],
      "metadata": {
        "id": "EmWx7mqJ2HD5"
      }
    },
    {
      "cell_type": "markdown",
      "source": [
        "**2. En la regresión lineal múltiple, ¿cuál es el objetivo principal?**\n",
        "\n",
        "> c) Encontrar la correlación entre variables.\n",
        "\n"
      ],
      "metadata": {
        "id": "8c-ntT4-2vK1"
      }
    },
    {
      "cell_type": "markdown",
      "source": [
        "**3. ¿Cuál es el nombre del método utilizado para estimar los parámetros en la regresión lineal múltiple?**\n",
        "\n",
        "> a) método de los mínimos cuadrados\n",
        "\n"
      ],
      "metadata": {
        "id": "PX8EVrX620m1"
      }
    },
    {
      "cell_type": "markdown",
      "source": [
        "**4. ¿Cuál es el rango de valores que puede tomar el coeficiente de correlación en la regresión lineal múltiple?**\n",
        "\n",
        "> a) entre -1 y 1\n",
        "\n"
      ],
      "metadata": {
        "id": "aDWUy7I92-qF"
      }
    },
    {
      "cell_type": "markdown",
      "source": [
        "**5. ¿Cuál es el supuesto clave en la regresión lineal múltiple?**\n",
        "\n",
        "> d) Linealidad perfecta entre variables\n",
        "\n"
      ],
      "metadata": {
        "id": "etCLCDZr3KKb"
      }
    },
    {
      "cell_type": "markdown",
      "source": [
        "**6. ¿Cuál es la interpretación del coeficiente de determinación (R2) en la regresión lineal múltiple?**\n",
        "\n",
        "> d) nivel de significancia de los coeficientes\n",
        "\n"
      ],
      "metadata": {
        "id": "2gYBFov03R2J"
      }
    },
    {
      "cell_type": "markdown",
      "source": [
        "**7. ¿Cuál es el criterio utilizado para seleccionar el mejor modelo en la regresió lineal múltiple?**\n",
        "\n",
        "> b) Coeficiente de determinación ajustado (R^2 ajustado)\n",
        "\n"
      ],
      "metadata": {
        "id": "rpIgOuhG3eoy"
      }
    },
    {
      "cell_type": "markdown",
      "source": [
        "**8. ¿Cuál es la fórmula para la ecuación de la recta en la regresión lineal múltiple?**\n",
        "\n",
        "> a) y = mx + b\n",
        "\n"
      ],
      "metadata": {
        "id": "DdWCxyUQ3zml"
      }
    },
    {
      "cell_type": "markdown",
      "source": [
        "**9. ¿Cuál es la finalidad de la validación del modelo en la regresión lineal multiple?**"
      ],
      "metadata": {
        "id": "VyQ8dppK4A6V"
      }
    },
    {
      "cell_type": "markdown",
      "source": [
        "**10. En la regresión lineal mútiple, ¿Qué técnica se utiliza para lidiar con la multicolinealidad?**\n",
        "\n",
        "> a) Análisis de componentes principales (PCA)\n",
        "\n"
      ],
      "metadata": {
        "id": "O7eLFzT14HDS"
      }
    },
    {
      "cell_type": "markdown",
      "source": [
        "# **REFGRESIÓN POLINOMIAL**"
      ],
      "metadata": {
        "id": "gcrrzNgu4Rd6"
      }
    },
    {
      "cell_type": "markdown",
      "source": [
        "**1. ¿Cuál es el objetivo principal de la regresión polinómica?**\n",
        "\n",
        "> d) Modelar relaciones no lineales entre variables\n",
        "\n"
      ],
      "metadata": {
        "id": "sLBPl19x4aDG"
      }
    },
    {
      "cell_type": "markdown",
      "source": [
        "**2. ¿Cuál es la principal diferencia ntre la regresión lineal y la regresión polinómica?**\n",
        "\n",
        "> c) La regresión polinómica permite modelar relaciones no lineales.\n",
        "\n"
      ],
      "metadata": {
        "id": "anu25MAR4jce"
      }
    },
    {
      "cell_type": "markdown",
      "source": [
        "**3. ¿Cuál de las siguiente afirmaciones sobre la regresión polinómica es verdadera?**\n",
        "\n",
        "> c) Requiere que todas las variables sean numéricas\n",
        "\n"
      ],
      "metadata": {
        "id": "33Czf4FZ4qHp"
      }
    },
    {
      "cell_type": "markdown",
      "source": [
        "**4. ¿Cuál es el propósito de la transformación polinómica en la regresión polinómica?**\n",
        "\n",
        "> d) Modelar relaciones no lineales mediante términos polinómicos\n",
        "\n"
      ],
      "metadata": {
        "id": "fnm32PYJ4yWt"
      }
    },
    {
      "cell_type": "markdown",
      "source": [
        "**5. ¿Qué grado polinómico se utiliza para ajustar una regresión polinómica?**\n",
        "\n"
      ],
      "metadata": {
        "id": "vYGkMbp948sw"
      }
    },
    {
      "cell_type": "markdown",
      "source": [
        "> d) Depende de la camtidad de variables independientes"
      ],
      "metadata": {
        "id": "D_EISdzrORoa"
      }
    },
    {
      "cell_type": "markdown",
      "source": [
        "**6. ¿Cuál de las siguientes afirmaciones sobre la regresión polinómica es falsa?**\n",
        "\n",
        "> a) No se puede sufrir e sobreajuste (overfitting)"
      ],
      "metadata": {
        "id": "IDtO3Ago5EHm"
      }
    },
    {
      "cell_type": "markdown",
      "source": [
        "**7. ¿Cuál es el criterio comúnmente utilizado para evaluar la calidad de un modelo de regresión polinómica?**\n",
        "\n",
        "> b) Coeficiente de correlación\n",
        "\n"
      ],
      "metadata": {
        "id": "6XND3evE5Lri"
      }
    },
    {
      "cell_type": "markdown",
      "source": [
        "**8. ¿Cuál de las siguientes técnicas se puede utilizar para lidiar con el sobreajuste en la regresión polinómica?**\n",
        "\n",
        "> c) Normalización de los datos."
      ],
      "metadata": {
        "id": "xepNd6Ko5Tyu"
      }
    },
    {
      "cell_type": "markdown",
      "source": [
        "**9. ¿Qué ocurre cuando se ajusta un modelo de regresión polinómica con un grado muy alto?**\n",
        "\n",
        "> c) Aumenta el riesgo de sobreajuste y dificulta la interpretación del modelo."
      ],
      "metadata": {
        "id": "mZHoKJHG5dTr"
      }
    },
    {
      "cell_type": "markdown",
      "source": [
        "**10. ¿Cuál de las siguientes afirmaciones sobre la regresión polinómica es verdadera?**\n",
        "\n",
        "> c) Permite modelar relaciones no lineales al incluir términos polinómicos."
      ],
      "metadata": {
        "id": "GAdtx2oB5kh4"
      }
    }
  ]
}